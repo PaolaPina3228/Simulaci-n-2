{
  "nbformat": 4,
  "nbformat_minor": 0,
  "metadata": {
    "colab": {
      "provenance": [],
      "authorship_tag": "ABX9TyNfy03zoQH9DXaKhV3ZdelV",
      "include_colab_link": true
    },
    "kernelspec": {
      "name": "python3",
      "display_name": "Python 3"
    },
    "language_info": {
      "name": "python"
    }
  },
  "cells": [
    {
      "cell_type": "markdown",
      "metadata": {
        "id": "view-in-github",
        "colab_type": "text"
      },
      "source": [
        "<a href=\"https://colab.research.google.com/github/PaolaPina3228/Simulaci-n-2/blob/main/Metropolis_3_distribuciones_estad%C3%ADsticas.ipynb\" target=\"_parent\"><img src=\"https://colab.research.google.com/assets/colab-badge.svg\" alt=\"Open In Colab\"/></a>"
      ]
    },
    {
      "cell_type": "markdown",
      "source": [
        "# ***Distribucion normal***\n",
        "\n"
      ],
      "metadata": {
        "id": "BKWEHr8grzxU"
      }
    },
    {
      "cell_type": "code",
      "source": [
        "import numpy as np\n",
        "import matplotlib.pyplot as plt\n",
        "from scipy.stats import beta"
      ],
      "metadata": {
        "id": "DRfcrWIIye1t"
      },
      "execution_count": 113,
      "outputs": []
    },
    {
      "cell_type": "code",
      "source": [
        "#Simular una normal con el algoritmo de Metropolis-Hastings\n",
        "def normal(x,mu,std):\n",
        "  return (1/np.sqrt(2*np.pi*std**2))*np.exp(-(x-mu)**2/(2*std**2))"
      ],
      "metadata": {
        "id": "WjM9xcdpyqUJ"
      },
      "execution_count": 114,
      "outputs": []
    },
    {
      "cell_type": "code",
      "source": [
        "#Media y desviacion estandar\n",
        "mu= 0.2\n",
        "sigma= 0.1"
      ],
      "metadata": {
        "id": "pQosheWlzh0t"
      },
      "execution_count": 115,
      "outputs": []
    },
    {
      "cell_type": "code",
      "source": [
        "delta= 0.5"
      ],
      "metadata": {
        "id": "n3bUHsImznwk"
      },
      "execution_count": 116,
      "outputs": []
    },
    {
      "cell_type": "code",
      "source": [
        "n= 50000\n",
        "x_norm= np.zeros(n)\n",
        "x_norm[0]= 0\n",
        "acept= 0\n",
        "\n",
        "#Algoritmo de Metropolis\n",
        "for i in range(0, n-1):\n",
        "  y= x_norm[i]+np.random.uniform(-delta,delta)\n",
        "  if np.random.rand() < min(1,normal(y,mu,sigma)/normal(x_norm[i],mu,sigma)):\n",
        "    x_norm[i+1]= y\n",
        "    acept+= 1\n",
        "  else:\n",
        "    x_norm[i+1]= x_norm[i]\n",
        "\n",
        "print (\"La aceptación fue del \", acept/n*100, \"%\")"
      ],
      "metadata": {
        "colab": {
          "base_uri": "https://localhost:8080/"
        },
        "id": "zjvtGNHDzqyk",
        "outputId": "984d871c-2163-407a-d13f-e933c0b11422"
      },
      "execution_count": 117,
      "outputs": [
        {
          "output_type": "stream",
          "name": "stdout",
          "text": [
            "La aceptación fue del  31.588 %\n"
          ]
        }
      ]
    },
    {
      "cell_type": "code",
      "source": [
        "#Grafica\n",
        "plt.hist(x_norm, bins= 30, density= True, edgecolor='black')\n",
        "xs= np.linspace(-0.5,1,100)\n",
        "plt.plot(xs, normal(xs,mu,sigma))\n",
        "plt.show()"
      ],
      "metadata": {
        "colab": {
          "base_uri": "https://localhost:8080/",
          "height": 430
        },
        "id": "Ax_hHk170xoe",
        "outputId": "6c17b026-007e-4644-d602-7f73bdc100cf"
      },
      "execution_count": 118,
      "outputs": [
        {
          "output_type": "display_data",
          "data": {
            "text/plain": [
              "<Figure size 640x480 with 1 Axes>"
            ],
            "image/png": "[encoded data removed]"
          },
          "metadata": {}
        }
      ]
    },
    {
      "cell_type": "code",
      "source": [
        "#Media y desciación estandar\n",
        "print (np.mean(x_norm))\n",
        "print (np.std(x_norm))"
      ],
      "metadata": {
        "colab": {
          "base_uri": "https://localhost:8080/"
        },
        "id": "FXM4MyGS7gRN",
        "outputId": "ab5d184c-6d9f-41d7-cac4-74970e2f6107"
      },
      "execution_count": 119,
      "outputs": [
        {
          "output_type": "stream",
          "name": "stdout",
          "text": [
            "0.20099209849763222\n",
            "0.09800027674819606\n"
          ]
        }
      ]
    },
    {
      "cell_type": "markdown",
      "source": [
        "# ***Distribucion exponencial***"
      ],
      "metadata": {
        "id": "TDldxiU8sOqs"
      }
    },
    {
      "cell_type": "code",
      "source": [
        "#Simular una exponencial con el algoritmo de Metropolis-Hastings\n",
        "def exponencial(x, lam):\n",
        "  if x>0:\n",
        "    return lam*np.exp(-lam*x)\n",
        "  else:\n",
        "    return 0"
      ],
      "metadata": {
        "id": "Ls9viiOZsjWj"
      },
      "execution_count": 120,
      "outputs": []
    },
    {
      "cell_type": "code",
      "source": [
        "# Parámetros de la distribución exponencial (lambda)\n",
        "lam = 0.5"
      ],
      "metadata": {
        "id": "M7coy-2itLjH"
      },
      "execution_count": 121,
      "outputs": []
    },
    {
      "cell_type": "code",
      "source": [
        "delta_e= 10"
      ],
      "metadata": {
        "id": "3px2wXSlwlvk"
      },
      "execution_count": 122,
      "outputs": []
    },
    {
      "cell_type": "code",
      "source": [
        "n= 50000\n",
        "x_exp = np.zeros(n)\n",
        "x_exp[0]= 1\n",
        "acept_e= 0\n",
        "\n",
        "#Algoritmo de Metropolis\n",
        "for i in range(0, n-1):\n",
        "  y = x_exp[i] + np.random.uniform(-delta_e, delta_e)\n",
        "  if np.random.rand() < min(1, exponencial(y, lam) / exponencial(x_exp[i], lam)):\n",
        "    x_exp[i+1] = y\n",
        "    acept_e += 1\n",
        "  else:\n",
        "    x_exp[i+1] = x_exp[i]\n",
        "\n",
        "print (\"La aceptación fue del \", acept/n*100, \"%\")"
      ],
      "metadata": {
        "colab": {
          "base_uri": "https://localhost:8080/"
        },
        "outputId": "96a928fa-c217-4f9b-a43d-ba12b9a05e94",
        "id": "bRDVniB0tZ8f"
      },
      "execution_count": 123,
      "outputs": [
        {
          "output_type": "stream",
          "name": "stdout",
          "text": [
            "La aceptación fue del  31.588 %\n"
          ]
        }
      ]
    },
    {
      "cell_type": "code",
      "source": [
        "#Grafica\n",
        "plt.hist(x_exp, bins= 30, density= True, edgecolor='black')\n",
        "xs= np.linspace(-0.5,10,100)\n",
        "plt.plot(xs, [exponencial(x, lam) for x in xs])\n",
        "plt.show()"
      ],
      "metadata": {
        "colab": {
          "base_uri": "https://localhost:8080/",
          "height": 430
        },
        "id": "CFGjCXAdvOA2",
        "outputId": "d2a5fe32-3081-41e8-d15d-a3bdd44f4031"
      },
      "execution_count": 124,
      "outputs": [
        {
          "output_type": "display_data",
          "data": {
            "text/plain": [
              "<Figure size 640x480 with 1 Axes>"
            ],
            "image/png": "[encoded data removed]"
          },
          "metadata": {}
        }
      ]
    },
    {
      "cell_type": "code",
      "source": [
        "#Media y desciación estandar\n",
        "print(np.mean(x_exp))\n",
        "print(np.std(x_exp))"
      ],
      "metadata": {
        "colab": {
          "base_uri": "https://localhost:8080/"
        },
        "id": "xZvhcj12vjOT",
        "outputId": "eb3611b4-19ca-4ac9-ec6d-b630ad5c7317"
      },
      "execution_count": 125,
      "outputs": [
        {
          "output_type": "stream",
          "name": "stdout",
          "text": [
            "2.0132623693150666\n",
            "2.0242355440436812\n"
          ]
        }
      ]
    },
    {
      "cell_type": "markdown",
      "source": [
        "# ***Distribucion uniforme***"
      ],
      "metadata": {
        "id": "-SdovLwHxTjh"
      }
    },
    {
      "cell_type": "code",
      "source": [
        "#Simular una distribución uniforme con el algoritmo de Metropolis-Hastings\n",
        "def uniforme(x, a, b):\n",
        "  if a <= x <= b:\n",
        "    return 1 / (b - a)\n",
        "  else:\n",
        "    return 0"
      ],
      "metadata": {
        "id": "ZYheOkPJx10Y"
      },
      "execution_count": 126,
      "outputs": []
    },
    {
      "cell_type": "code",
      "source": [
        "#Parámetros de la distribución uniforme\n",
        "a = 2\n",
        "b = 5"
      ],
      "metadata": {
        "id": "iPJBf_4Fx8os"
      },
      "execution_count": 127,
      "outputs": []
    },
    {
      "cell_type": "code",
      "source": [
        "delta_u = 1"
      ],
      "metadata": {
        "id": "kByP6JlLx_TV"
      },
      "execution_count": 128,
      "outputs": []
    },
    {
      "cell_type": "code",
      "source": [
        "x_unif = np.zeros(n)\n",
        "x_unif[0] = 3\n",
        "acept_u = 0\n",
        "\n",
        "# Algoritmo de Metropolis\n",
        "for i in range(n - 1):\n",
        "  y = x_unif[i] + np.random.uniform(-delta_u, delta_u)\n",
        "  if np.random.rand() < min(1, uniforme(y, a, b) / uniforme(x_unif[i], a, b)):\n",
        "    x_unif[i + 1] = y\n",
        "    acept_u += 1\n",
        "  else:\n",
        "    x_unif[i + 1] = x_unif[i]\n",
        "\n",
        "print(\"La aceptación fue del \", acept_u / n * 100, \"%\")"
      ],
      "metadata": {
        "colab": {
          "base_uri": "https://localhost:8080/"
        },
        "id": "zYMhryZiyCv8",
        "outputId": "466ee674-60e4-42f4-ff8f-b7f9b3e88e83"
      },
      "execution_count": 129,
      "outputs": [
        {
          "output_type": "stream",
          "name": "stdout",
          "text": [
            "La aceptación fue del  83.308 %\n"
          ]
        }
      ]
    },
    {
      "cell_type": "code",
      "source": [
        "# Gráfica\n",
        "plt.hist(x_unif, bins=30, density=True, edgecolor='black')\n",
        "xs = np.linspace(a - 1, b + 1, 100)\n",
        "plt.plot(xs, [uniforme(x, a, b) for x in xs])\n",
        "plt.show()"
      ],
      "metadata": {
        "colab": {
          "base_uri": "https://localhost:8080/",
          "height": 430
        },
        "id": "Q5cpQlmOyMPA",
        "outputId": "0d577cda-2bc1-4643-b4a8-9937d7164417"
      },
      "execution_count": 130,
      "outputs": [
        {
          "output_type": "display_data",
          "data": {
            "text/plain": [
              "<Figure size 640x480 with 1 Axes>"
            ],
            "image/png": "[encoded data removed]"
          },
          "metadata": {}
        }
      ]
    },
    {
      "cell_type": "code",
      "source": [
        "#Media y desciación estandar\n",
        "print(np.mean(x_unif))\n",
        "print(np.std(x_unif))"
      ],
      "metadata": {
        "colab": {
          "base_uri": "https://localhost:8080/"
        },
        "id": "Tk5wAWntyN1E",
        "outputId": "0b496119-1d20-4958-d0d7-23eab0f8091b"
      },
      "execution_count": 131,
      "outputs": [
        {
          "output_type": "stream",
          "name": "stdout",
          "text": [
            "3.4913932720915337\n",
            "0.8670322767873272\n"
          ]
        }
      ]
    },
    {
      "cell_type": "markdown",
      "source": [
        "# ***Distribucion beta***"
      ],
      "metadata": {
        "id": "scGwapYnyyi9"
      }
    },
    {
      "cell_type": "code",
      "source": [
        "def beta_dist(x, alpha, bet):\n",
        "  return beta.pdf(x, alpha, bet)"
      ],
      "metadata": {
        "id": "RH84-1E-y10r"
      },
      "execution_count": 132,
      "outputs": []
    },
    {
      "cell_type": "code",
      "source": [
        "#Parámetros de la distribución beta (alpha y beta)\n",
        "alpha = 2\n",
        "bet = 5"
      ],
      "metadata": {
        "id": "7WrF3csAy89P"
      },
      "execution_count": 133,
      "outputs": []
    },
    {
      "cell_type": "code",
      "source": [
        "delta_b = 0.1"
      ],
      "metadata": {
        "id": "tXIDGDvrzEWE"
      },
      "execution_count": 134,
      "outputs": []
    },
    {
      "cell_type": "code",
      "source": [
        "n = 50000\n",
        "x_beta = np.zeros(n)\n",
        "x_beta[0] = 0.5\n",
        "acept_b = 0\n",
        "\n",
        "# Algoritmo de Metropolis\n",
        "for i in range(0, n-1):\n",
        "  y = x_beta[i] + np.random.uniform(-delta_b, delta_b)\n",
        "  if 0 < y < 1:\n",
        "    if np.random.rand() < min(1, beta_dist(y, alpha, bet) / beta_dist(x_beta[i], alpha, bet)):\n",
        "      x_beta[i+1] = y\n",
        "      acept_b += 1\n",
        "    else:\n",
        "      x_beta[i+1] = x_beta[i]\n",
        "  else:\n",
        "    x_beta[i+1] = x_beta[i]\n",
        "\n",
        "print(\"La aceptación fue del \", acept_b/n*100, \"%\")"
      ],
      "metadata": {
        "colab": {
          "base_uri": "https://localhost:8080/"
        },
        "id": "w-eA2Rqg0xte",
        "outputId": "20900095-85f6-4419-fac3-84f44f83d31d"
      },
      "execution_count": 135,
      "outputs": [
        {
          "output_type": "stream",
          "name": "stdout",
          "text": [
            "La aceptación fue del  87.872 %\n"
          ]
        }
      ]
    },
    {
      "cell_type": "code",
      "source": [
        "# Gráfica\n",
        "plt.hist(x_beta, bins=30, density=True, edgecolor='black')\n",
        "xs = np.linspace(0, 1, 100)\n",
        "plt.plot(xs, [beta_dist(x, alpha, bet) for x in xs])\n",
        "plt.show()"
      ],
      "metadata": {
        "colab": {
          "base_uri": "https://localhost:8080/",
          "height": 430
        },
        "id": "k1UDzttQ2_y_",
        "outputId": "d95b3e7a-97da-4976-90b1-ccf439dc44b5"
      },
      "execution_count": 136,
      "outputs": [
        {
          "output_type": "display_data",
          "data": {
            "text/plain": [
              "<Figure size 640x480 with 1 Axes>"
            ],
            "image/png": "[encoded data removed]"
          },
          "metadata": {}
        }
      ]
    },
    {
      "cell_type": "code",
      "source": [
        "#Media y desciación estandar\n",
        "print(np.mean(x_beta))\n",
        "print(np.std(x_beta))"
      ],
      "metadata": {
        "colab": {
          "base_uri": "https://localhost:8080/"
        },
        "id": "EnQdZ0e23Grr",
        "outputId": "90a8d279-11cc-443c-9eb2-8ab4ef1b6615"
      },
      "execution_count": 137,
      "outputs": [
        {
          "output_type": "stream",
          "name": "stdout",
          "text": [
            "0.28469207900323434\n",
            "0.1578998295271868\n"
          ]
        }
      ]
    }
  ]
}