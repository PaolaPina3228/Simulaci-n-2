{
  "nbformat": 4,
  "nbformat_minor": 0,
  "metadata": {
    "colab": {
      "provenance": [],
      "authorship_tag": "ABX9TyOsISXX2AODgLVVWuYOyiNp",
      "include_colab_link": true
    },
    "kernelspec": {
      "name": "python3",
      "display_name": "Python 3"
    },
    "language_info": {
      "name": "python"
    }
  },
  "cells": [
    {
      "cell_type": "markdown",
      "metadata": {
        "id": "view-in-github",
        "colab_type": "text"
      },
      "source": [
        "<a href=\"https://colab.research.google.com/github/PaolaPina3228/Simulaci-n-2/blob/main/Simpy.ipynb\" target=\"_parent\"><img src=\"https://colab.research.google.com/assets/colab-badge.svg\" alt=\"Open In Colab\"/></a>"
      ]
    },
    {
      "cell_type": "markdown",
      "source": [
        "En este caso, vamos a definir:\n",
        "\n",
        "*   Un inventario que disminuye con la demanda diaria.\n",
        "*   Un proceso de reabastecimiento que agrega una cantidad fija de productos después de cierto tiempo."
      ],
      "metadata": {
        "id": "ypt3LFXOjHLS"
      }
    },
    {
      "cell_type": "code",
      "source": [
        "!pip install simpy\n",
        "import simpy\n",
        "import numpy as np\n",
        "\n",
        "# Parámetros del inventario\n",
        "CAPACIDAD_INICIAL = 100   # Nivel de inventario inicial\n",
        "CAPACIDAD_MAXIMA = 200    # Capacidad máxima del inventario\n",
        "DEMANDA_MEDIA = 10        # Demanda diaria promedio\n",
        "Q = 50                    # Cantidad de reabastecimiento\n",
        "R = 20                    # Punto de reorden\n",
        "TIEMPO_REABASTECIMIENTO = 3  # Tiempo en días para recibir reabastecimiento\n",
        "DIAS_SIMULACION = 30      # Duración de la simulación en días\n",
        "\n",
        "# Proceso de inventario con demanda y reabastecimiento\n",
        "def gestionar_inventario(env, inventario):\n",
        "    while True:\n",
        "        # Generar demanda aleatoria cada día\n",
        "        demanda = np.random.poisson(DEMANDA_MEDIA)\n",
        "\n",
        "        # Reducir inventario usando el método `get`\n",
        "        if inventario.level >= demanda:\n",
        "            yield inventario.get(demanda)  # Satisface la demanda si hay suficiente inventario\n",
        "        else:\n",
        "            yield inventario.get(inventario.level)  # Toma todo el inventario si la demanda supera el nivel actual\n",
        "\n",
        "        print(f\"Día {env.now}: Inventario después de demanda: {inventario.level}\")\n",
        "\n",
        "        # Revisa si se necesita hacer un pedido (reabastecimiento)\n",
        "        if inventario.level <= R:\n",
        "            print(f\"Día {env.now}: Punto de reorden alcanzado. Pedido en camino.\")\n",
        "            env.process(reabastecer_inventario(env, inventario))\n",
        "\n",
        "        # Espera 1 día antes de la próxima demanda\n",
        "        yield env.timeout(1)\n",
        "\n",
        "# Proceso de reabastecimiento\n",
        "def reabastecer_inventario(env, inventario):\n",
        "    # Esperar el tiempo de reabastecimiento\n",
        "    yield env.timeout(TIEMPO_REABASTECIMIENTO)\n",
        "    # Añadir la cantidad Q al inventario usando el método `put`\n",
        "    yield inventario.put(Q)\n",
        "    print(f\"Día {env.now}: Reabastecimiento recibido. Nuevo nivel de inventario: {inventario.level}\")\n",
        "\n",
        "# Configuración del entorno de SimPy\n",
        "env = simpy.Environment()\n",
        "inventario = simpy.Container(env, init=CAPACIDAD_INICIAL, capacity=CAPACIDAD_MAXIMA)\n",
        "\n",
        "# Iniciar el proceso de gestión de inventario\n",
        "env.process(gestionar_inventario(env, inventario))\n",
        "\n",
        "# Ejecutar la simulación\n",
        "env.run(until=DIAS_SIMULACION)\n"
      ],
      "metadata": {
        "colab": {
          "base_uri": "https://localhost:8080/"
        },
        "id": "JWIOY9VPkrLu",
        "outputId": "dae4374d-fa21-4f9a-e283-86a88d17b56c"
      },
      "execution_count": 4,
      "outputs": [
        {
          "output_type": "stream",
          "name": "stdout",
          "text": [
            "Requirement already satisfied: simpy in /usr/local/lib/python3.10/dist-packages (4.1.1)\n",
            "Día 0: Inventario después de demanda: 85\n",
            "Día 1: Inventario después de demanda: 81\n",
            "Día 2: Inventario después de demanda: 69\n",
            "Día 3: Inventario después de demanda: 56\n",
            "Día 4: Inventario después de demanda: 45\n",
            "Día 5: Inventario después de demanda: 37\n",
            "Día 6: Inventario después de demanda: 28\n",
            "Día 7: Inventario después de demanda: 12\n",
            "Día 7: Punto de reorden alcanzado. Pedido en camino.\n",
            "Día 8: Inventario después de demanda: 5\n",
            "Día 8: Punto de reorden alcanzado. Pedido en camino.\n",
            "Día 9: Inventario después de demanda: 0\n",
            "Día 9: Punto de reorden alcanzado. Pedido en camino.\n",
            "Día 10: Reabastecimiento recibido. Nuevo nivel de inventario: 35\n",
            "Día 10: Inventario después de demanda: 35\n",
            "Día 11: Reabastecimiento recibido. Nuevo nivel de inventario: 79\n",
            "Día 11: Inventario después de demanda: 79\n",
            "Día 12: Reabastecimiento recibido. Nuevo nivel de inventario: 116\n",
            "Día 12: Inventario después de demanda: 116\n",
            "Día 13: Inventario después de demanda: 107\n",
            "Día 14: Inventario después de demanda: 96\n",
            "Día 15: Inventario después de demanda: 85\n",
            "Día 16: Inventario después de demanda: 75\n",
            "Día 17: Inventario después de demanda: 60\n",
            "Día 18: Inventario después de demanda: 47\n",
            "Día 19: Inventario después de demanda: 39\n",
            "Día 20: Inventario después de demanda: 28\n",
            "Día 21: Inventario después de demanda: 17\n",
            "Día 21: Punto de reorden alcanzado. Pedido en camino.\n",
            "Día 22: Inventario después de demanda: 8\n",
            "Día 22: Punto de reorden alcanzado. Pedido en camino.\n",
            "Día 23: Inventario después de demanda: 2\n",
            "Día 23: Punto de reorden alcanzado. Pedido en camino.\n",
            "Día 24: Reabastecimiento recibido. Nuevo nivel de inventario: 44\n",
            "Día 24: Inventario después de demanda: 44\n",
            "Día 25: Reabastecimiento recibido. Nuevo nivel de inventario: 86\n",
            "Día 25: Inventario después de demanda: 86\n",
            "Día 26: Reabastecimiento recibido. Nuevo nivel de inventario: 126\n",
            "Día 26: Inventario después de demanda: 126\n",
            "Día 27: Inventario después de demanda: 120\n",
            "Día 28: Inventario después de demanda: 115\n",
            "Día 29: Inventario después de demanda: 101\n"
          ]
        }
      ]
    }
  ]
}