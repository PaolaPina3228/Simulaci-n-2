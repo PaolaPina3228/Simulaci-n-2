{
  "nbformat": 4,
  "nbformat_minor": 0,
  "metadata": {
    "colab": {
      "provenance": [],
      "authorship_tag": "ABX9TyOwcmOYfmIsCvocQLvT9MNz",
      "include_colab_link": true
    },
    "kernelspec": {
      "name": "python3",
      "display_name": "Python 3"
    },
    "language_info": {
      "name": "python"
    }
  },
  "cells": [
    {
      "cell_type": "markdown",
      "metadata": {
        "id": "view-in-github",
        "colab_type": "text"
      },
      "source": [
        "<a href=\"https://colab.research.google.com/github/PaolaPina3228/Simulaci-n-2/blob/main/s2_02_Aceptacion_y_rechazo.ipynb\" target=\"_parent\"><img src=\"https://colab.research.google.com/assets/colab-badge.svg\" alt=\"Open In Colab\"/></a>"
      ]
    },
    {
      "cell_type": "code",
      "source": [
        "import numpy as np\n",
        "import random\n",
        "import matplotlib.pyplot as plt"
      ],
      "metadata": {
        "id": "EIXhwvUjkwt-"
      },
      "execution_count": 12,
      "outputs": []
    },
    {
      "cell_type": "code",
      "source": [
        "#Numero de muestras a generar\n",
        "N = 1000\n",
        "\n",
        "# Constante c\n",
        "c=135/64\n",
        "\n",
        "#funcion f(x)\n",
        "def f(x):\n",
        "  return np.cos(np.pi*x/2)\n",
        "\n",
        "#lista\n",
        "lx=[]\n",
        "\n",
        "#Muestreo por aceptacion y rechazo\n",
        "i=0\n",
        "while i<N:\n",
        "  y=random.uniform(0,1)\n",
        "  u=random.uniform(0,1)\n",
        "  if u <= f(y)/c:\n",
        "    lx.append(y)\n",
        "    i+=1\n",
        "\n",
        "#Grafica de la funcion\n",
        "x=np.linspace(0,1,100)\n",
        "y_2=f(x)\n",
        "\n",
        "#Grafica de la funcion de densidad\n",
        "plt.figure(figsize=(10,6))\n",
        "plt.hist(lx, bins=50, density=True, alpha=0.6, color='b')\n",
        "plt.plot(x, y_2)"
      ],
      "metadata": {
        "collapsed": true,
        "id": "TJ1lO1Bsrf0o"
      },
      "execution_count": null,
      "outputs": []
    }
  ]
}